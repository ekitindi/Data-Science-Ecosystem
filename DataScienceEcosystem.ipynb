{
 "cells": [
  {
   "cell_type": "markdown",
   "id": "d6e00ad1-be37-4c55-a0dd-325842d2f94b",
   "metadata": {},
   "source": [
    "# Data Science Tools and  Ecosystem"
   ]
  },
  {
   "cell_type": "markdown",
   "id": "35a43f94-47b6-4130-815c-79826377e157",
   "metadata": {},
   "source": [
    "## In this notebook, Data Science Tools and Ecosystem are summarized."
   ]
  },
  {
   "cell_type": "markdown",
   "id": "a0f69711-6d23-4ba4-ae70-9589c009e66d",
   "metadata": {},
   "source": [
    "### Some of the popular languages that Data Scientists use are:\n",
    "1. Python\n",
    "2. R\n",
    "3. SQL"
   ]
  },
  {
   "cell_type": "markdown",
   "id": "a021a598-85c9-4bc3-9dd9-a77f1bdc3295",
   "metadata": {},
   "source": [
    "### Some of the commonly used libraries used by Data Scientists include:\n",
    "1. NumPy\n",
    "2. Plotly\n",
    "3. ggplot\n",
    "4. Pandas"
   ]
  },
  {
   "cell_type": "markdown",
   "id": "44d84897-7136-42c5-a4bf-a1f569782709",
   "metadata": {},
   "source": [
    "### Below is a list of  three development environment open source tools used in data science:\n",
    "| Data Science Tools|\n",
    "| ------- |\n",
    "| Jupyter Notebook |\n",
    "| RStudio |\n",
    "| Zeppelin |"
   ]
  },
  {
   "cell_type": "markdown",
   "id": "d187c7ea-4081-4347-9e29-12f3cce15a22",
   "metadata": {},
   "source": [
    "### Below are a few examples of evaluating arithmetic expressions in Python"
   ]
  },
  {
   "cell_type": "code",
   "execution_count": 21,
   "id": "35368728-bd36-4d31-958a-8fea18b494ca",
   "metadata": {},
   "outputs": [
    {
     "data": {
      "text/plain": [
       "17"
      ]
     },
     "execution_count": 21,
     "metadata": {},
     "output_type": "execute_result"
    }
   ],
   "source": [
    "# This a simple arithmetic expression to multiply then add integers\n",
    "\n",
    "(3*4)+5"
   ]
  },
  {
   "cell_type": "code",
   "execution_count": 25,
   "id": "124eec7f-b355-4089-a0b9-04e5196a2d26",
   "metadata": {},
   "outputs": [
    {
     "name": "stdout",
     "output_type": "stream",
     "text": [
      "200 min is approx 3.3333333333333335 hours\n"
     ]
    }
   ],
   "source": [
    "# This will convert 200 minutes to hours by diving by 60\n",
    "\n",
    "min = 200\n",
    "hours = min/60\n",
    "print (\"200 minutes is approx\", hours, \"hours\")\n"
   ]
  },
  {
   "cell_type": "markdown",
   "id": "64cddf42-3d2c-407d-847b-121a22e9f62e",
   "metadata": {},
   "source": [
    "## **Objectives**\n",
    "### Some of the takeaways of this course include:\n",
    "- some popular languages used by Data Scientists\n",
    "- some popular Development Enviroments used by Data Scientists\n",
    "- some popular libraries used in Data Science\n",
    "- Using Markdown cells"
   ]
  },
  {
   "cell_type": "markdown",
   "id": "5ba8d05d-9a79-4a5c-943a-90a6268f9212",
   "metadata": {},
   "source": [
    "## Author\n",
    "Ernest Arthur Kitindi"
   ]
  },
  {
   "cell_type": "code",
   "execution_count": null,
   "id": "6ad95e7c-31ea-4cf6-b907-7a7ea62534a8",
   "metadata": {},
   "outputs": [],
   "source": []
  }
 ],
 "metadata": {
  "kernelspec": {
   "display_name": "anaconda-panel-2023.05-py310",
   "language": "python",
   "name": "conda-env-anaconda-panel-2023.05-py310-py"
  },
  "language_info": {
   "codemirror_mode": {
    "name": "ipython",
    "version": 3
   },
   "file_extension": ".py",
   "mimetype": "text/x-python",
   "name": "python",
   "nbconvert_exporter": "python",
   "pygments_lexer": "ipython3",
   "version": "3.11.5"
  }
 },
 "nbformat": 4,
 "nbformat_minor": 5
}
